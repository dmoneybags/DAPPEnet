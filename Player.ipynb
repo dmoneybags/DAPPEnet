{
 "cells": [
  {
   "cell_type": "code",
   "execution_count": 29,
   "id": "b15038b1-2bf9-4a01-83d0-493bb6a53f79",
   "metadata": {},
   "outputs": [],
   "source": [
    "import glob\n",
    "import json\n",
    "import os\n",
    "%run GameFunctions.ipynb\n",
    "%run PrintFunctions.ipynb\n",
    "%run Stats.ipynb"
   ]
  },
  {
   "cell_type": "code",
   "execution_count": 1,
   "id": "3811cb98-18dc-4b00-a86c-8af5f19afad7",
   "metadata": {},
   "outputs": [],
   "source": [
    "class Player:\n",
    "    def __init__(self, name = '', net = None):\n",
    "        if name == '':\n",
    "            self.name = Names.getRandomName() + \"_\" + Names.getRandomName()\n",
    "        else:\n",
    "            self.name = name\n",
    "        self.team = ProcessFunctions.getRandomTeam()\n",
    "        self.wins = 0\n",
    "        self.games = 0\n",
    "        self.turns = 0\n",
    "        if net is None:\n",
    "            self.net = SequentialPkmnPlayer()\n",
    "        else:\n",
    "            self.net = net\n",
    "        self.opt = tf.keras.optimizers.Adam(\n",
    "            learning_rate=tf.Variable(0.0001),\n",
    "            beta_1=tf.Variable(0.9),\n",
    "            beta_2=tf.Variable(0.999),\n",
    "            epsilon=tf.Variable(1e-7),\n",
    "            decay = tf.Variable(0.0),\n",
    "        )\n",
    "        self.ckpt = tf.train.Checkpoint(self.net, optimizer = self.opt)\n",
    "        self.manager = tf.train.CheckpointManager(self.ckpt, directory = os.getcwd() + \"/players/\" + self.name + \"/checkpoints/\", max_to_keep=5)\n",
    "    def getJsonDict(self):\n",
    "        pDict = {}\n",
    "        pDict['name'] = self.name\n",
    "        pDict['team'] = self.team\n",
    "        pDict['wins'] = int(self.wins)\n",
    "        pDict['games'] = int(self.games)\n",
    "        pDict['turns'] = int(self.turns)\n",
    "        return json.dumps(pDict)\n",
    "    def writeJson(jsonStr, path):\n",
    "        with open(path + \"/playerJson.txt\", \"w\") as player:\n",
    "            player.truncate(0)\n",
    "            player.write(jsonStr)\n",
    "    def readJson(path):\n",
    "        with open(path + \"/playerJson.txt\", \"r\") as player:\n",
    "            jsonDict = json.loads(player.read())\n",
    "        return jsonDict\n",
    "    def save(self):\n",
    "        path = os.getcwd() + \"/players/\" + self.name\n",
    "        if not os.path.isdir(path):\n",
    "            os.mkdir(path)\n",
    "            formattedPrint(f\"Created dir for player {self.name}\", location = \"PLAYERS\")\n",
    "        Player.writeJson(self.getJsonDict(), path)\n",
    "        save_path = self.manager.save()\n",
    "        formattedPrint(f\"saved to player {save_path}\", location = \"PLAYERS\")\n",
    "    def load(self, name):\n",
    "        path = os.getcwd() + \"/players/\" + name\n",
    "        jsonDict = Player.readJson(path)\n",
    "        self.name = jsonDict['name']\n",
    "        self.wins = jsonDict['wins']\n",
    "        self.games = jsonDict['games']\n",
    "        self.turns = jsonDict['turns']\n",
    "        _ = self.net(tf.zeros([1, SEQUENTIALINPUTSHAPE[0]], tf.float32))\n",
    "        self.ckpt.restore(self.manager.latest_checkpoint)\n",
    "        formattedPrint(f\"loaded player {self.name}\", location = \"PLAYERS\")\n",
    "    def setRandomTeam(self):\n",
    "        self.team = ProcessFunctions.getRandomTeam()\n",
    "    def updateStats(self, turns, didWin):\n",
    "        self.games += 1\n",
    "        if didWin:\n",
    "            self.wins += 1\n",
    "        self.turns += turns\n",
    "        Statistics.winList[self.name] = self.wins\n",
    "        Statistics.gamesPlayed += 1\n",
    "    def actor(self, inpt):\n",
    "        return self.net(inpt)[0]\n",
    "    def critic(self, inpt):\n",
    "        return self.net(inpt)[1]"
   ]
  },
  {
   "cell_type": "code",
   "execution_count": 31,
   "id": "f8a428a5-101e-4e51-9343-5de3cad1d7d0",
   "metadata": {},
   "outputs": [
    {
     "name": "stdout",
     "output_type": "stream",
     "text": [
      "Thu Mar  3 17:10:19 2022, PLAYERS:: Created dir for player Taryn_Catya\n",
      "Thu Mar  3 17:10:19 2022, PLAYERS:: Saved player Taryn_Catya\n"
     ]
    }
   ],
   "source": []
  },
  {
   "cell_type": "code",
   "execution_count": null,
   "id": "6b7c3a05-db2c-42f9-92ca-794968f3c4bb",
   "metadata": {},
   "outputs": [],
   "source": []
  }
 ],
 "metadata": {
  "kernelspec": {
   "display_name": "Python 3",
   "language": "python",
   "name": "python3"
  },
  "language_info": {
   "codemirror_mode": {
    "name": "ipython",
    "version": 3
   },
   "file_extension": ".py",
   "mimetype": "text/x-python",
   "name": "python",
   "nbconvert_exporter": "python",
   "pygments_lexer": "ipython3",
   "version": "3.9.1"
  }
 },
 "nbformat": 4,
 "nbformat_minor": 5
}
