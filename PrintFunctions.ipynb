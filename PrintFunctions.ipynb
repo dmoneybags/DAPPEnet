{
 "cells": [
  {
   "cell_type": "code",
   "execution_count": 4,
   "id": "1be16fcf-0921-458e-a62f-18686d56e009",
   "metadata": {},
   "outputs": [],
   "source": [
    "import time\n",
    "import os, sys"
   ]
  },
  {
   "cell_type": "code",
   "execution_count": 5,
   "id": "60d83c1b-fdab-4009-a643-c0fbeedd1bef",
   "metadata": {},
   "outputs": [],
   "source": [
    "def formattedPrint(words, location = \"GENERAL\"):\n",
    "    print(time.ctime() + \", \" + location + \":: \" + words)"
   ]
  },
  {
   "cell_type": "code",
   "execution_count": null,
   "id": "3ccc7705-79da-41e8-a7ef-ecb86b201ad8",
   "metadata": {},
   "outputs": [],
   "source": [
    "class HiddenPrints:\n",
    "    def __enter__(self):\n",
    "        self._original_stdout = sys.stdout\n",
    "        sys.stdout = open(os.devnull, 'w')\n",
    "\n",
    "    def __exit__(self, exc_type, exc_val, exc_tb):\n",
    "        sys.stdout.close()\n",
    "        sys.stdout = self._original_stdout"
   ]
  }
 ],
 "metadata": {
  "kernelspec": {
   "display_name": "Python 3",
   "language": "python",
   "name": "python3"
  },
  "language_info": {
   "codemirror_mode": {
    "name": "ipython",
    "version": 3
   },
   "file_extension": ".py",
   "mimetype": "text/x-python",
   "name": "python",
   "nbconvert_exporter": "python",
   "pygments_lexer": "ipython3",
   "version": "3.9.1"
  }
 },
 "nbformat": 4,
 "nbformat_minor": 5
}
