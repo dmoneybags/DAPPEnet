{
 "cells": [
  {
   "cell_type": "code",
   "execution_count": 45,
   "id": "bde056c8-9c69-4650-a98d-e22c0fc05497",
   "metadata": {},
   "outputs": [],
   "source": [
    "import json\n",
    "import pandas as pd\n",
    "from threading import Lock\n",
    "import matplotlib.pyplot as plt"
   ]
  },
  {
   "cell_type": "code",
   "execution_count": 44,
   "id": "8885af1f-7b35-49fe-b7ab-042dfb5343cf",
   "metadata": {},
   "outputs": [],
   "source": [
    "class Statistics:\n",
    "    writeLock = Lock()\n",
    "    winList = {}\n",
    "    gamesPlayed = 0\n",
    "    def writeStatistics():\n",
    "        with Statistics.writeLock:\n",
    "            statDict = {'winList': Statistics.winList, 'gamesPlayed': Statistics.gamesPlayed}\n",
    "            with open(\"winlist.json\", \"w\") as winJson:\n",
    "                winJson.truncate(0)\n",
    "                winJson.write(json.dumps(statDict))\n",
    "    def readStatistics():\n",
    "        with open(\"winlist.json\", \"w\") as winJson:\n",
    "            jsonDict = json.loads(winJson.read())\n",
    "            Statistics.winList = jsonDict['winList']\n",
    "            Statistics.gamesPlayed = jsonDict['gamesPlayed']\n",
    "    def csvwrite(stats, strFileName):\n",
    "        stats = ','.join([str(i) for i in stats])\n",
    "        file = open(strFileName, 'a')\n",
    "        file.write(str(stats) + \"\\n\")\n",
    "        file.close()\n",
    "    def showLoss():\n",
    "        lossDf = pd.read_csv(\"stats/stats.csv\")\n",
    "        print(lossDf)\n",
    "        actorLoss = lossDf['ActorLoss'].tolist()\n",
    "        criticLoss = lossDf['CriticLoss'].tolist()\n",
    "        x = [i for i in range(len(actorLoss))]\n",
    "        plt.plot(x, actorLoss, label = \"Actor Loss\")\n",
    "        plt.plot(x, criticLoss, label = \"Critic Loss\")\n",
    "        plt.legend()\n",
    "        plt.show()\n",
    "    def clearFile(strFileName):\n",
    "        with open(strFileName, \"r+\") as file:\n",
    "            file.truncate(0)\n",
    "        Statistics.csvwrite([\"ActorLoss\", \"CriticLoss\"], \"stats/stats.csv\")"
   ]
  },
  {
   "cell_type": "code",
   "execution_count": null,
   "id": "7c725fe2-fdeb-4be2-8f10-9d9d6736b77d",
   "metadata": {},
   "outputs": [],
   "source": []
  },
  {
   "cell_type": "code",
   "execution_count": null,
   "id": "49148ab5-8d96-4145-a1b2-9cc811fd466d",
   "metadata": {},
   "outputs": [],
   "source": []
  }
 ],
 "metadata": {
  "kernelspec": {
   "display_name": "Python 3",
   "language": "python",
   "name": "python3"
  },
  "language_info": {
   "codemirror_mode": {
    "name": "ipython",
    "version": 3
   },
   "file_extension": ".py",
   "mimetype": "text/x-python",
   "name": "python",
   "nbconvert_exporter": "python",
   "pygments_lexer": "ipython3",
   "version": "3.9.1"
  }
 },
 "nbformat": 4,
 "nbformat_minor": 5
}
