{
 "cells": [
  {
   "cell_type": "code",
   "execution_count": 5,
   "id": "b9e19f8f-d055-48c8-81d9-9d4f1717f993",
   "metadata": {},
   "outputs": [],
   "source": [
    "import random\n",
    "import os\n",
    "import tensorflow as tf\n",
    "import numpy as np\n",
    "from tensorflow import keras"
   ]
  },
  {
   "cell_type": "code",
   "execution_count": 40,
   "id": "609add68-1e8d-40be-ad5f-d8795c86aa30",
   "metadata": {},
   "outputs": [],
   "source": [
    "INPUTSHAPE = (1, 41, 41)\n",
    "SEQUENTIALINPUTSHAPE = (1669, 1)\n",
    "NUMCONDITIONS = 10"
   ]
  },
  {
   "cell_type": "code",
   "execution_count": 41,
   "id": "af5ccf35-a4a4-4bc1-a595-f831caaf28bf",
   "metadata": {},
   "outputs": [],
   "source": [
    "class ConvolutionPkmnPlayer(keras.Sequential):\n",
    "    def __init__(self, _input_shape = INPUTSHAPE, _num_conditions = NUMCONDITIONS, _kernel_size = (12,12), _dilations = 10, _num_hidden_units = 256):\n",
    "        print(\"INITIALIZING ACTOR\")\n",
    "        super(ConvolutionPkmnPlayer, self).__init__([\n",
    "            #Normalize the data to reduce sensitivity to individual values and increase training stability\n",
    "            keras.layers.BatchNormalization(name = \"Normalization\", input_shape = _input_shape),\n",
    "            #Initialize our Conv2d layer with a kernel of 10, 10 and 10 dilations to generate activations for next layer\n",
    "            keras.layers.Conv2D(_dilations, _kernel_size, activation = 'relu', padding = \"same\", name = \"FirstConv2d\"),\n",
    "            #Begin our sequence of Alternating Conv2d Layers and Max pooling layers to prevent overfitting to various locations within the Data\n",
    "            keras.layers.Conv2D(_dilations * 2, _kernel_size, activation = 'relu', padding = \"same\", name = \"SecConv2d\"),\n",
    "            keras.layers.MaxPooling2D(padding = \"same\", name = \"FirstMaxPooling\"),\n",
    "            keras.layers.Conv2D(_dilations * 2, _kernel_size, activation = 'relu', padding = \"same\", name = \"ThirdConv2d\"),\n",
    "            keras.layers.MaxPooling2D(padding = \"same\", name = \"SecMaxPooling\"),\n",
    "            #Dropout to prevent overfitting\n",
    "            keras.layers.Dropout(0.2, name = \"Dropout\"),\n",
    "            keras.layers.Conv2D(_dilations * 2, _kernel_size, activation = 'relu', padding = \"same\", name = \"FourthConv2d\"),\n",
    "            #Flattening to pass the activations to Dense Layer\n",
    "            keras.layers.Flatten(name = \"Flatten\"),\n",
    "            #Dense Layer to increase depth and node count\n",
    "            keras.layers.Dense(_num_hidden_units, activation = 'relu', name = \"Dense\"),\n",
    "            #Softmax output layer\n",
    "            keras.layers.Dense(_num_conditions, activation = 'softmax')\n",
    "        ])\n",
    "    def call(self, x, training = True):\n",
    "        x = x.reshape(INPUTSHAPE)\n",
    "        for layer in self.layers:\n",
    "            x = layer(x)\n",
    "        return x"
   ]
  },
  {
   "cell_type": "code",
   "execution_count": 46,
   "id": "c564e4a1-73ff-4d3a-b439-db7e0a830e80",
   "metadata": {},
   "outputs": [],
   "source": [
    "class SequentialPkmnPlayer(keras.Sequential):\n",
    "    def __init__(self, _input_shape = SEQUENTIALINPUTSHAPE[0], num_units = 128, _num_conditions = NUMCONDITIONS):\n",
    "        super(SequentialPkmnPlayer, self).__init__([\n",
    "            keras.layers.Dense(_input_shape, activation = 'relu'),\n",
    "            keras.layers.Dense(num_units * 2, activation = 'relu'),\n",
    "            keras.layers.Dense(num_units * 2, activation = 'relu'),\n",
    "            keras.layers.Dense(num_units * 2, activation = 'relu'),\n",
    "            keras.layers.Dense(num_units, activation = 'relu'),\n",
    "            keras.layers.Dense(num_units, activation = 'relu'),\n",
    "            keras.layers.Dense(_num_conditions, activation = 'softmax'),\n",
    "            keras.layers.Dense(1, activation = 'tanh', name = 'critic')\n",
    "        ])\n",
    "    def call(self, x, training = True):\n",
    "        #pass input through every Layer\n",
    "        for i in range(len(self.layers) - 2):\n",
    "            x = self.layers[i](x)\n",
    "        #Actor, Critic\n",
    "        return self.layers[-2](x), self.layers[-1](x)"
   ]
  },
  {
   "cell_type": "code",
   "execution_count": 11,
   "id": "de9e143c-3a71-4f9b-b604-49fd1653c1a9",
   "metadata": {},
   "outputs": [],
   "source": [
    "class ResidualPkmnPlayer:\n",
    "    def relu_bn(inputs: tf.Tensor) -> tf.Tensor:\n",
    "        relu = keras.layers.ReLU()(inputs)\n",
    "        bn = keras.layers.BatchNormalization()(relu)\n",
    "        return bn\n",
    "    def residual_block(x: tf.Tensor, downsample: bool, filters: int, kernel_size: int = 3) -> tf.Tensor:\n",
    "        y = keras.layers.Conv2D(kernel_size=kernel_size,\n",
    "                   strides= (1 if not downsample else 2),\n",
    "                   filters=filters,\n",
    "                   padding=\"same\")(x)\n",
    "        y = ResidualPkmnPlayer.relu_bn(y)\n",
    "        y = keras.layers.Conv2D(kernel_size=kernel_size,\n",
    "                   strides=1,\n",
    "                   filters=filters,\n",
    "                   padding=\"same\")(y)\n",
    "\n",
    "        if downsample:\n",
    "            x = keras.layers.Conv2D(kernel_size=1,\n",
    "                       strides=2,\n",
    "                       filters=filters,\n",
    "                       padding=\"same\")(x)\n",
    "        out = keras.layers.Add()([x, y])\n",
    "        out = ResidualPkmnPlayer.relu_bn(out)\n",
    "        return out\n",
    "    def getModel():\n",
    "        inputs = keras.Input(shape=(INPUTSHAPE))\n",
    "        num_filters = 64\n",
    "\n",
    "        t = keras.layers.BatchNormalization()(inputs)\n",
    "        t = keras.layers.Conv2D(kernel_size=3,\n",
    "                   strides=1,\n",
    "                   filters=num_filters,\n",
    "                   padding=\"same\")(t)\n",
    "        t = ResidualPkmnPlayer.relu_bn(t)\n",
    "\n",
    "        num_blocks_list = [2, 2, 2, 2, 2, 2, 2, 2, 2, 2]\n",
    "        for i in range(len(num_blocks_list)):\n",
    "            num_blocks = num_blocks_list[i]\n",
    "            for j in range(num_blocks):\n",
    "                t = ResidualPkmnPlayer.residual_block(t, downsample=(j==0 and i!=0), filters=num_filters)\n",
    "            num_filters *= 2\n",
    "\n",
    "        t = keras.layers.AveragePooling2D(4)(t)\n",
    "        t = keras.layers.Flatten()(t)\n",
    "        outputs = keras.layers.Dense(1, activation='linear')(t)\n",
    "\n",
    "        model = Model(inputs, outputs)\n",
    "\n",
    "        return model"
   ]
  },
  {
   "cell_type": "code",
   "execution_count": 14,
   "id": "a2392a18-bb87-4cd0-b79f-132cf55c5890",
   "metadata": {},
   "outputs": [],
   "source": [
    "class SequentialPkmnCritic(keras.Sequential):\n",
    "    \"\"\"Combined actor-critic network.\"\"\"\n",
    "\n",
    "    def __init__(self):\n",
    "\n",
    "        super(SequentialPkmnCritic, self).__init__([\n",
    "        #keras.layers.Flatten(input_shape = (1, SEQUENTIALINPUTSHAPE[0])),\n",
    "        keras.layers.Dense(SEQUENTIALINPUTSHAPE[0], activation = 'tanh'),\n",
    "        keras.layers.Dense(1, activation = 'tanh', name = 'critic')])\n",
    "        "
   ]
  },
  {
   "cell_type": "code",
   "execution_count": 45,
   "id": "3c98152c-7b07-49a6-812b-0b2c257c0be4",
   "metadata": {},
   "outputs": [],
   "source": [
    "def selectAction(action_probs, numActions = 10):\n",
    "    selector = random.uniform(0, 1)\n",
    "    prob = float(0)\n",
    "    for i in range(numActions):\n",
    "        prob += float(action_probs[0, i])\n",
    "        if selector <= prob:\n",
    "            return tf.Variable(i, dtype = tf.int32)\n",
    "    return tf.Variable(numActions - 1, dtype = tf.int32)"
   ]
  },
  {
   "cell_type": "code",
   "execution_count": 1,
   "id": "105fea73-9b31-4d46-9522-d6ae86fa73c8",
   "metadata": {},
   "outputs": [
    {
     "ename": "NameError",
     "evalue": "name 'SEQUENTIALINPUTSHAPE' is not defined",
     "output_type": "error",
     "traceback": [
      "\u001b[0;31m---------------------------------------------------------------------------\u001b[0m",
      "\u001b[0;31mNameError\u001b[0m                                 Traceback (most recent call last)",
      "\u001b[0;32m<ipython-input-1-82e410eb43a0>\u001b[0m in \u001b[0;36m<module>\u001b[0;34m\u001b[0m\n\u001b[0;32m----> 1\u001b[0;31m \u001b[0mprint\u001b[0m\u001b[0;34m(\u001b[0m\u001b[0mSEQUENTIALINPUTSHAPE\u001b[0m\u001b[0;34m[\u001b[0m\u001b[0;36m0\u001b[0m\u001b[0;34m]\u001b[0m\u001b[0;34m)\u001b[0m\u001b[0;34m\u001b[0m\u001b[0;34m\u001b[0m\u001b[0m\n\u001b[0m",
      "\u001b[0;31mNameError\u001b[0m: name 'SEQUENTIALINPUTSHAPE' is not defined"
     ]
    }
   ],
   "source": []
  },
  {
   "cell_type": "code",
   "execution_count": null,
   "id": "7b1dbb75-ac36-4afb-bd31-7e8a55171951",
   "metadata": {},
   "outputs": [],
   "source": []
  }
 ],
 "metadata": {
  "kernelspec": {
   "display_name": "Python 3",
   "language": "python",
   "name": "python3"
  },
  "language_info": {
   "codemirror_mode": {
    "name": "ipython",
    "version": 3
   },
   "file_extension": ".py",
   "mimetype": "text/x-python",
   "name": "python",
   "nbconvert_exporter": "python",
   "pygments_lexer": "ipython3",
   "version": "3.9.1"
  }
 },
 "nbformat": 4,
 "nbformat_minor": 5
}
