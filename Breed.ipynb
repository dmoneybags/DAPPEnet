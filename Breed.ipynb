{
 "cells": [
  {
   "cell_type": "code",
   "execution_count": 4,
   "metadata": {},
   "outputs": [],
   "source": [
    "import random\n",
    "import tensorflow as tf\n",
    "%run NeuralNetGenerator.ipynb"
   ]
  },
  {
   "cell_type": "code",
   "execution_count": 2,
   "metadata": {},
   "outputs": [],
   "source": [
    "class BreedingFunctions:\n",
    "    def uniformSwitch(layer1weights, layer2weights):\n",
    "        for i in range(len(layer1weights)):\n",
    "            if random.random() < 0.5:\n",
    "                prevVal = layer1weights[i]\n",
    "                layer1weights[i] = layer2weights[i]\n",
    "                if random.random() < 0.5:\n",
    "                    layer2weights[i] = prevVal\n",
    "    def fixedUniformSwitch(layer1weights, layer2weights):\n",
    "        for i in range(len(layer1weights)):\n",
    "            prevVal = layer1weights[i]\n",
    "            if random.random() < 0.5:\n",
    "                layer1weights[i] = layer2weights[i]\n",
    "            if random.random() < 0.5:\n",
    "                layer2weights[i] = prevVal\n",
    "    def crossoverLayer(layer1, layer2, func):\n",
    "        layer1FullWeights = layer1.get_weights()\n",
    "        layer2FullWeights = layer2.get_weights()\n",
    "        layer1InitialShape = tf.shape(layer1FullWeights[0])\n",
    "        layer2InitialShape = tf.shape(layer2FullWeights[0])\n",
    "        layer1weights = layer1FullWeights[0].flatten()\n",
    "        layer2weights = layer2FullWeights[0].flatten()\n",
    "        prevLayer1weights = layer1weights.copy()\n",
    "        func(layer1weights, layer2weights)\n",
    "        layer1FullWeights[0] = tf.reshape(layer1weights, layer1InitialShape)\n",
    "        layer2FullWeights[0] = tf.reshape(layer2weights, layer2InitialShape)\n",
    "        layer1.set_weights(layer1FullWeights)\n",
    "        layer2.set_weights(layer2FullWeights)\n",
    "        return layer1, layer2\n",
    "    def breed(model1, model2, func, num = 128):\n",
    "        modelList = []\n",
    "        progbar = tf.keras.utils.Progbar(BracketFunctions.num)\n",
    "        for i in range(int(num/2)):\n",
    "            for i in range(len(model1.layers)):\n",
    "                model1.layers[i], model2.layers[i] = BreedingFunctions.crossoverLayer(model1.layers[i], \n",
    "                                                                                model2.layers[i], func)\n",
    "            modelList.append(model1)\n",
    "            modelList.append(model2)\n",
    "            progbar.add(2)\n",
    "        return modelList"
   ]
  },
  {
   "cell_type": "code",
   "execution_count": 35,
   "metadata": {},
   "outputs": [],
   "source": [
    "'''\n",
    "model1 = SequentialPkmnPlayer()\n",
    "model2 = SequentialPkmnPlayer()\n",
    "fakeInput = tf.zeros([1669, 1], tf.float32)\n",
    "y = model1(fakeInput)\n",
    "y = model2(fakeInput)\n",
    "modelList = BreedingFunctions.breed(model1, model2, BreedingFunctions.uniformSwitch)\n",
    "'''"
   ]
  },
  {
   "cell_type": "code",
   "execution_count": 11,
   "metadata": {},
   "outputs": [
    {
     "name": "stdout",
     "output_type": "stream",
     "text": [
      "[0, 0, 0, 1]\n",
      "[1, 0, 0, 0]\n"
     ]
    }
   ],
   "source": []
  }
 ],
 "metadata": {
  "interpreter": {
   "hash": "aee8b7b246df8f9039afb4144a1f6fd8d2ca17a180786b69acc140d282b71a49"
  },
  "kernelspec": {
   "display_name": "Python 3.9.1 64-bit",
   "language": "python",
   "name": "python3"
  },
  "language_info": {
   "codemirror_mode": {
    "name": "ipython",
    "version": 3
   },
   "file_extension": ".py",
   "mimetype": "text/x-python",
   "name": "python",
   "nbconvert_exporter": "python",
   "pygments_lexer": "ipython3",
   "version": "3.9.1"
  },
  "orig_nbformat": 4
 },
 "nbformat": 4,
 "nbformat_minor": 2
}
