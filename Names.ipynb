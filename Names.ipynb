{
 "cells": [
  {
   "cell_type": "code",
   "execution_count": 27,
   "id": "4da1a4d4-997a-4d0e-9505-890866a8fce9",
   "metadata": {},
   "outputs": [],
   "source": [
    "import random"
   ]
  },
  {
   "cell_type": "code",
   "execution_count": 28,
   "id": "9b89304c-af85-46c9-85d5-51c078771dae",
   "metadata": {},
   "outputs": [],
   "source": [
    "class Names:\n",
    "    names = []\n",
    "    def getRandomName():\n",
    "        totalNames = len(Names.names)\n",
    "        if len(Names.names) == 0:\n",
    "            raise ValueError('getRandomName called before loadNames called, initialize names into memory by calling loadNames')\n",
    "        index = random.randrange(0, totalNames)\n",
    "        return Names.names[index]\n",
    "    def loadNames():\n",
    "        if len(Names.names) == 0:\n",
    "            with open(\"names.txt\", 'r') as nameFile:\n",
    "                names = nameFile.readlines()\n",
    "                strippedNames = [i.rstrip() for i in names]\n",
    "                Names.names = strippedNames"
   ]
  },
  {
   "cell_type": "code",
   "execution_count": null,
   "id": "ea39cd23-4eec-436c-b2ae-a2d912d04850",
   "metadata": {},
   "outputs": [],
   "source": []
  }
 ],
 "metadata": {
  "kernelspec": {
   "display_name": "Python 3",
   "language": "python",
   "name": "python3"
  },
  "language_info": {
   "codemirror_mode": {
    "name": "ipython",
    "version": 3
   },
   "file_extension": ".py",
   "mimetype": "text/x-python",
   "name": "python",
   "nbconvert_exporter": "python",
   "pygments_lexer": "ipython3",
   "version": "3.9.1"
  }
 },
 "nbformat": 4,
 "nbformat_minor": 5
}
